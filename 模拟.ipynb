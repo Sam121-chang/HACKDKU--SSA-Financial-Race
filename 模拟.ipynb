{
 "cells": [
  {
   "cell_type": "code",
   "execution_count": null,
   "id": "initial_id",
   "metadata": {
    "collapsed": true
   },
   "outputs": [],
   "source": [
    "#数据加载和处理\n",
    "#假设你有一个CSV文件（stocks.csv），其中包含多支股票的历史数据，包括日期、开盘价、收盘价、最高价、最低价、成交量等。这里我们选择以收盘价进行分析。"
   ]
  },
  {
   "metadata": {},
   "cell_type": "code",
   "outputs": [],
   "execution_count": null,
   "source": [
    "import pandas as pd\n",
    "import numpy as np\n",
    "import matplotlib.pyplot as plt\n",
    "from sklearn.model_selection import train_test_split\n",
    "from sklearn.linear_model import LinearRegression\n",
    "from sklearn.metrics import mean_squared_error\n",
    "\n",
    "# 加载数据\n",
    "data = pd.read_csv('stocks.csv')\n",
    "data['Date'] = pd.to_datetime(data['Date'])\n",
    "\n",
    "# 选择股票的收盘价作为目标变量\n",
    "stocks = data[['Date', 'Stock1_Close', 'Stock2_Close', 'Stock3_Close']]\n",
    "stocks.set_index('Date', inplace=True)\n",
    "\n",
    "# 简单数据清理：检查缺失值\n",
    "stocks.isnull().sum()\n",
    "stocks = stocks.dropna()\n"
   ],
   "id": "577e8bbb090a3645"
  },
  {
   "metadata": {},
   "cell_type": "code",
   "outputs": [],
   "execution_count": null,
   "source": [
    "#特征工程\n",
    "#我们将使用过去7天的收盘价作为特征，预测未来1天的收盘价。"
   ],
   "id": "3afc1729f9967050"
  },
  {
   "metadata": {},
   "cell_type": "code",
   "outputs": [],
   "execution_count": null,
   "source": [
    "# 生成过去7天的特征\n",
    "for stock in ['Stock1_Close', 'Stock2_Close', 'Stock3_Close']:\n",
    "    for i in range(1, 8):\n",
    "        stocks[f'{stock}_lag_{i}'] = stocks[stock].shift(i)\n",
    "\n",
    "stocks = stocks.dropna()  # 删除缺失值\n"
   ],
   "id": "a653121b920e32ac"
  },
  {
   "metadata": {},
   "cell_type": "code",
   "outputs": [],
   "execution_count": null,
   "source": [
    "#划分训练集和测试集\n",
    "\n",
    "#将数据分为训练集和测试集，80%用于训练，20%用于测试。"
   ],
   "id": "931e780a476bcd07"
  },
  {
   "metadata": {},
   "cell_type": "code",
   "outputs": [],
   "execution_count": null,
   "source": [
    "# 选择特征和目标\n",
    "features = [col for col in stocks.columns if 'lag' in col]\n",
    "target = 'Stock1_Close'  # 假设我们预测Stock1的收盘价\n",
    "\n",
    "X = stocks[features]\n",
    "y = stocks[target]\n",
    "\n",
    "# 划分训练集和测试集\n",
    "X_train, X_test, y_train, y_test = train_test_split(X, y, test_size=0.2, shuffle=False)\n"
   ],
   "id": "18026321d8a54abb"
  },
  {
   "metadata": {},
   "cell_type": "code",
   "outputs": [],
   "execution_count": null,
   "source": [
    "#模型训练与评估\n",
    "\n",
    "#使用线性回归进行预测，评估模型的效果"
   ],
   "id": "6be11d945606909e"
  },
  {
   "metadata": {},
   "cell_type": "code",
   "outputs": [],
   "execution_count": null,
   "source": [
    "# 初始化并训练模型\n",
    "model = LinearRegression()\n",
    "model.fit(X_train, y_train)\n",
    "\n",
    "# 预测并评估\n",
    "y_pred = model.predict(X_test)\n",
    "mse = mean_squared_error(y_test, y_pred)\n",
    "print(f'Mean Squared Error: {mse}')\n",
    "\n",
    "# 可视化结果\n",
    "plt.plot(y_test.index, y_test.values, label='True')\n",
    "plt.plot(y_test.index, y_pred, label='Predicted')\n",
    "plt.legend()\n",
    "plt.title('Stock1 Close Price Prediction')\n",
    "plt.show()\n"
   ],
   "id": "1a39cd9fa58edaa4"
  },
  {
   "metadata": {},
   "cell_type": "code",
   "outputs": [],
   "execution_count": null,
   "source": [
    "#投资组合优化\n",
    "\n",
    "#我们使用现代投资组合理论（均值-方差优化）来构建一个最优投资组合，目标是最大化预期收益并最小化风险。"
   ],
   "id": "63db44da2fb6105e"
  },
  {
   "metadata": {},
   "cell_type": "code",
   "outputs": [],
   "execution_count": null,
   "source": [
    "from scipy.optimize import minimize\n",
    "\n",
    "# 假设我们有3只股票\n",
    "returns = stocks.pct_change().dropna()  # 计算每日收益率\n",
    "mean_returns = returns.mean()\n",
    "cov_matrix = returns.cov()\n",
    "\n",
    "# 投资组合优化：最小化风险（方差）\n",
    "def portfolio_variance(weights, mean_returns, cov_matrix):\n",
    "    return np.dot(weights.T, np.dot(cov_matrix, weights))\n",
    "\n",
    "# 投资组合的约束：权重和为1，且每只股票的权重非负\n",
    "constraints = ({'type': 'eq', 'fun': lambda weights: np.sum(weights) - 1})\n",
    "bounds = tuple((0, 1) for _ in range(len(mean_returns)))\n",
    "\n",
    "# 初始猜测：等权重\n",
    "initial_guess = [1.0 / len(mean_returns)] * len(mean_returns)\n",
    "\n",
    "# 优化\n",
    "result = minimize(portfolio_variance, initial_guess, args=(mean_returns, cov_matrix), method='SLSQP', bounds=bounds, constraints=constraints)\n",
    "\n",
    "# 输出最优组合\n",
    "optimal_weights = result.x\n",
    "print(f'Optimal Portfolio Weights: {optimal_weights}')\n",
    "\n",
    "# 计算最优组合的预期收益和风险\n",
    "optimal_return = np.dot(optimal_weights, mean_returns)\n",
    "optimal_risk = np.sqrt(portfolio_variance(optimal_weights, mean_returns, cov_matrix))\n",
    "print(f'Optimal Portfolio Return: {optimal_return}')\n",
    "print(f'Optimal Portfolio Risk (Standard Deviation): {optimal_risk}')\n"
   ],
   "id": "d7f75fbe6aa9dfc1"
  },
  {
   "metadata": {},
   "cell_type": "code",
   "outputs": [],
   "execution_count": null,
   "source": [
    "#总结与展示\n",
    "\n",
    "#将最终的投资组合权重和预测结果输出，并在GitHub上提交。"
   ],
   "id": "5084f8b83d9f7ef"
  },
  {
   "metadata": {},
   "cell_type": "code",
   "outputs": [],
   "execution_count": null,
   "source": [
    "# 保存结果到GitHub代码库\n",
    "stocks['Predicted_Stock1_Close'] = model.predict(X)\n",
    "stocks.to_csv('stocks_with_predictions.csv')\n",
    "\n",
    "# 展示优化后的投资组合权重\n",
    "print(f\"Optimal Weights: {optimal_weights}\")\n",
    "print(f\"Portfolio Expected Return: {optimal_return}\")\n",
    "print(f\"Portfolio Risk: {optimal_risk}\")\n",
    "\n",
    "# 创建一个展示图表（可以展示股票预测和投资组合效果）\n",
    "plt.figure(figsize=(10, 6))\n",
    "plt.plot(stocks.index, stocks['Stock1_Close'], label='Stock1 Actual')\n",
    "plt.plot(stocks.index, stocks['Predicted_Stock1_Close'], label='Stock1 Predicted')\n",
    "plt.legend()\n",
    "plt.show()\n"
   ],
   "id": "82b030952bf0c11e"
  },
  {
   "metadata": {},
   "cell_type": "code",
   "outputs": [],
   "execution_count": null,
   "source": [
    "\"\"\"这个示例展示了如何使用Python完成以下任务：\n",
    "\n",
    "数据加载与处理：加载股票数据，处理缺失值，并生成特征。\n",
    "回归分析：使用线性回归预测未来股票价格。\n",
    "投资组合优化：使用现代投资组合理论（均值-方差优化）找到最优投资组合。\"\"\""
   ],
   "id": "d8dace79278be3fe"
  }
 ],
 "metadata": {
  "kernelspec": {
   "display_name": "Python 3",
   "language": "python",
   "name": "python3"
  },
  "language_info": {
   "codemirror_mode": {
    "name": "ipython",
    "version": 2
   },
   "file_extension": ".py",
   "mimetype": "text/x-python",
   "name": "python",
   "nbconvert_exporter": "python",
   "pygments_lexer": "ipython2",
   "version": "2.7.6"
  }
 },
 "nbformat": 4,
 "nbformat_minor": 5
}
